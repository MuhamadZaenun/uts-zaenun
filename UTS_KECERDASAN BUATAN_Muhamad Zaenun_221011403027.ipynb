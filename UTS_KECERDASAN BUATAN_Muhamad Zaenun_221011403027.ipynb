{
 "cells": [
  {
   "cell_type": "code",
   "execution_count": null,
   "id": "beccb941-8346-429e-b3a7-801d83d7d46c",
   "metadata": {},
   "outputs": [],
   "source": [
    "Nama :Muhamad Zaenun\n",
    "NIM : 221011403027\n",
    "Kelas : 05TPLM009"
   ]
  },
  {
   "cell_type": "code",
   "execution_count": 1,
   "id": "5eaba062-ad9b-4253-bfff-50a317487563",
   "metadata": {},
   "outputs": [],
   "source": [
    "# Data\n",
    "\n",
    "company_detail_list = [\n",
    "      {\n",
    "          'name': 'Company 1',\n",
    "          'domain': 'Retail',\n",
    "          'country': 'United States'\n",
    "      },\n",
    "      {\n",
    "          'name': 'Company 2',\n",
    "          'domain': 'Technology',\n",
    "          'country': 'United Kingdom'\n",
    "      },\n",
    "      {\n",
    "          'name': 'Company 3',\n",
    "          'domain': 'Healthcare',\n",
    "          'country': 'United States'\n",
    "      }\n",
    "  ]\n",
    "\n",
    "employee_detail_list = [\n",
    "     {\n",
    "          'name': 'EMP-0001',\n",
    "          'first_name': 'John',\n",
    "          'last_name': 'Doe',\n",
    "          'full_name': 'John Doe',\n",
    "          'company': 'Company 1',\n",
    "          'nationality': 'Australia'\n",
    "      },\n",
    "      {\n",
    "          'name': 'EMP-0002',\n",
    "          'first_name': 'Tom',\n",
    "          'last_name': 'Smith',\n",
    "          'full_name': 'Tom Smith',\n",
    "          'company': 'Company 2',\n",
    "          'nationality': 'United States'\n",
    "      },\n",
    "      {\n",
    "          'name': 'EMP-0003',\n",
    "          'first_name': 'Andrew',\n",
    "          'last_name': 'Sebastian',\n",
    "          'full_name': 'Andrew Sebastian',\n",
    "          'company': 'Company 3',\n",
    "          'nationality': 'United States'\n",
    "      },\n",
    "      {\n",
    "          'name': 'EMP-0005',\n",
    "          'first_name': 'Ying Han',\n",
    "          'last_name': 'Tan',\n",
    "          'full_name': 'Ying Han Tan',\n",
    "          'company': 'Company 1',\n",
    "          'nationality': 'Australia'\n",
    "      },\n",
    "      {\n",
    "          'name': 'EMP-0015',\n",
    "          'first_name': 'Kenneth',\n",
    "          'last_name': 'Ng',\n",
    "          'full_name': 'Kenneth Ng',\n",
    "          'company': 'Company 3',\n",
    "          'nationality': 'United States'\n",
    "      },\n",
    "      {\n",
    "          'name': 'EMP-0018',\n",
    "          'first_name': 'Rubby',\n",
    "          'last_name': 'Lee',\n",
    "          'full_name': 'Rubby Lee',\n",
    "          'company': 'Company 2',\n",
    "          'nationality': 'Hong Kong'\n",
    "      },\n",
    "     {\n",
    "          'name': 'EMP-0017',\n",
    "          'first_name': 'Robert',\n",
    "          'last_name': 'White',\n",
    "          'full_name': 'Robert White',\n",
    "          'company': 'Company 1',\n",
    "          'nationality': 'United Kingdom'\n",
    "      }\n",
    "  ]"
   ]
  },
  {
   "cell_type": "code",
   "execution_count": 2,
   "id": "6bf7d709-c260-47d7-a47c-70d353006b23",
   "metadata": {},
   "outputs": [
    {
     "name": "stdout",
     "output_type": "stream",
     "text": [
      "[{'nama': 'Perusahaan 3'}, {'nama': 'Perusahaan 2'}, {'nama': 'Perusahaan 1'}]\n"
     ]
    }
   ],
   "source": [
    "# Daftar perusahaan awal\n",
    "perusahaan = [\n",
    "    {\"nama\": \"Perusahaan 1\"},\n",
    "    {\"nama\": \"Perusahaan 2\"},\n",
    "    {\"nama\": \"Perusahaan 3\"}\n",
    "]\n",
    "\n",
    "# Mengurutkan daftar berdasarkan nama secara terbalik\n",
    "perusahaan_terurut = sorted(perusahaan, key=lambda x: x[\"nama\"], reverse=True)\n",
    "\n",
    "# Menampilkan hasil\n",
    "print(perusahaan_terurut)\n"
   ]
  },
  {
   "cell_type": "code",
   "execution_count": 3,
   "id": "0fd3d212-84d9-463c-92b1-90840af75248",
   "metadata": {},
   "outputs": [
    {
     "name": "stdout",
     "output_type": "stream",
     "text": [
      "Perusahaan 1: Ritel (Amerika Serikat)\n",
      "Perusahaan 2: Teknologi (Inggris Raya)\n",
      "Perusahaan 3: Layanan Kesehatan (Amerika Serikat)\n"
     ]
    }
   ],
   "source": [
    "# Daftar perusahaan dengan informasi domain\n",
    "perusahaan = [\n",
    "    {\"nama\": \"Perusahaan 1\", \"domain\": \"Ritel\", \"negara\": \"Amerika Serikat\"},\n",
    "    {\"nama\": \"Perusahaan 2\", \"domain\": \"Teknologi\", \"negara\": \"Inggris Raya\"},\n",
    "    {\"nama\": \"Perusahaan 3\", \"domain\": \"Layanan Kesehatan\", \"negara\": \"Amerika Serikat\"}\n",
    "]\n",
    "\n",
    "# Mencetak informasi domain dan negara setiap perusahaan\n",
    "for p in perusahaan:\n",
    "    print(f\"{p['nama']}: {p['domain']} ({p['negara']})\")\n"
   ]
  },
  {
   "cell_type": "code",
   "execution_count": 4,
   "id": "e5c4e24d-0df8-453a-be67-9bba2df75d27",
   "metadata": {},
   "outputs": [
    {
     "name": "stdout",
     "output_type": "stream",
     "text": [
      "{'Pengecer': ['John Doe', 'Robert Putih', 'Ying Han Tan'], 'Teknologi': ['Tom Smith', 'Rubi Lee'], 'Perawatan Kesehatan': ['Kenneth Ng', 'Andrew Sebastian']}\n"
     ]
    }
   ],
   "source": [
    "# Data perusahaan dan karyawan\n",
    "perusahaan = [\n",
    "    {\n",
    "        \"nama\": \"Perusahaan 1\",\n",
    "        \"domain\": \"Pengecer\",\n",
    "        \"karyawan\": [\"John Doe\", \"Robert Putih\", \"Ying Han Tan\"]\n",
    "    },\n",
    "    {\n",
    "        \"nama\": \"Perusahaan 2\",\n",
    "        \"domain\": \"Teknologi\",\n",
    "        \"karyawan\": [\"Tom Smith\", \"Rubi Lee\"]\n",
    "    },\n",
    "    {\n",
    "        \"nama\": \"Perusahaan 3\",\n",
    "        \"domain\": \"Perawatan Kesehatan\",\n",
    "        \"karyawan\": [\"Kenneth Ng\", \"Andrew Sebastian\"]\n",
    "    }\n",
    "]\n",
    "\n",
    "# Mengelompokkan karyawan berdasarkan domain\n",
    "karyawan_berdasarkan_domain = {}\n",
    "for p in perusahaan:\n",
    "    domain = p[\"domain\"]\n",
    "    karyawan_berdasarkan_domain[domain] = p[\"karyawan\"]\n",
    "\n",
    "# Menampilkan hasil\n",
    "print(karyawan_berdasarkan_domain)\n"
   ]
  },
  {
   "cell_type": "code",
   "execution_count": 5,
   "id": "946d57a7-b4ee-4826-96e5-1c73d157dcef",
   "metadata": {},
   "outputs": [
    {
     "name": "stdout",
     "output_type": "stream",
     "text": [
      "[{'nama_lengkap': 'John Doe', 'perusahaan': 'Perusahaan 1', 'negara': 'Amerika Serikat'}, {'nama_lengkap': 'Ying Han Tan', 'perusahaan': 'Perusahaan 1', 'negara': 'Amerika Serikat'}, {'nama_lengkap': 'Robert White', 'perusahaan': 'Perusahaan 1', 'negara': 'Amerika Serikat'}, {'nama_lengkap': 'Tom Smith', 'perusahaan': 'Perusahaan 2', 'negara': 'Inggris'}, {'nama_lengkap': 'Rubby Lee', 'perusahaan': 'Perusahaan 2', 'negara': 'Inggris'}, {'nama_lengkap': 'Andrew Sebastian', 'perusahaan': 'Perusahaan 3', 'negara': 'Inggris'}, {'nama_lengkap': 'Kenneth Ng', 'perusahaan': 'Perusahaan 3', 'negara': 'Inggris'}]\n"
     ]
    }
   ],
   "source": [
    "# Data perusahaan dengan informasi negara dan karyawan\n",
    "perusahaan = [\n",
    "    {\n",
    "        \"nama\": \"Perusahaan 1\",\n",
    "        \"negara\": \"Amerika Serikat\",\n",
    "        \"karyawan\": [\"John Doe\", \"Ying Han Tan\", \"Robert White\"]\n",
    "    },\n",
    "    {\n",
    "        \"nama\": \"Perusahaan 2\",\n",
    "        \"negara\": \"Inggris\",\n",
    "        \"karyawan\": [\"Tom Smith\", \"Rubby Lee\"]\n",
    "    },\n",
    "    {\n",
    "        \"nama\": \"Perusahaan 3\",\n",
    "        \"negara\": \"Inggris\",\n",
    "        \"karyawan\": [\"Andrew Sebastian\", \"Kenneth Ng\"]\n",
    "    }\n",
    "]\n",
    "\n",
    "# Fungsi untuk mendapatkan daftar karyawan beserta negara perusahaannya\n",
    "def karyawan_dengan_negara(perusahaan_list):\n",
    "    hasil = []\n",
    "    for p in perusahaan_list:\n",
    "        for karyawan in p[\"karyawan\"]:\n",
    "            hasil.append({\n",
    "                \"nama_lengkap\": karyawan,\n",
    "                \"perusahaan\": p[\"nama\"],\n",
    "                \"negara\": p[\"negara\"]\n",
    "            })\n",
    "    return hasil\n",
    "\n",
    "# Memanggil fungsi dan menampilkan hasil\n",
    "daftar_karyawan = karyawan_dengan_negara(perusahaan)\n",
    "print(daftar_karyawan)\n"
   ]
  },
  {
   "cell_type": "code",
   "execution_count": 6,
   "id": "fd68de5e-c090-474d-959f-ea83f25ea687",
   "metadata": {},
   "outputs": [
    {
     "name": "stdout",
     "output_type": "stream",
     "text": [
      "[{'perusahaan': 'Perusahaan 1', 'kewarganegaraan_karyawan': {'Australia': 2, 'Hongkong': 1}}, {'perusahaan': 'Perusahaan 2', 'kewarganegaraan_karyawan': {'Hongkong': 1, 'Amerika Serikat': 1}}, {'perusahaan': 'Perusahaan 3', 'kewarganegaraan_karyawan': {'Amerika Serikat': 2}}]\n"
     ]
    }
   ],
   "source": [
    "# Data perusahaan beserta karyawan dan kewarganegaraan mereka\n",
    "perusahaan = [\n",
    "    {\n",
    "        \"nama\": \"Perusahaan 1\",\n",
    "        \"karyawan\": [\n",
    "            {\"nama\": \"John Doe\", \"kewarganegaraan\": \"Australia\"},\n",
    "            {\"nama\": \"Robert White\", \"kewarganegaraan\": \"Australia\"},\n",
    "            {\"nama\": \"Ying Han Tan\", \"kewarganegaraan\": \"Hongkong\"}\n",
    "        ]\n",
    "    },\n",
    "    {\n",
    "        \"nama\": \"Perusahaan 2\",\n",
    "        \"karyawan\": [\n",
    "            {\"nama\": \"Tom Smith\", \"kewarganegaraan\": \"Hongkong\"},\n",
    "            {\"nama\": \"Rubby Lee\", \"kewarganegaraan\": \"Amerika Serikat\"}\n",
    "        ]\n",
    "    },\n",
    "    {\n",
    "        \"nama\": \"Perusahaan 3\",\n",
    "        \"karyawan\": [\n",
    "            {\"nama\": \"Kenneth Ng\", \"kewarganegaraan\": \"Amerika Serikat\"},\n",
    "            {\"nama\": \"Andrew Sebastian\", \"kewarganegaraan\": \"Amerika Serikat\"}\n",
    "        ]\n",
    "    }\n",
    "]\n",
    "\n",
    "# Fungsi untuk menghitung kewarganegaraan karyawan per perusahaan\n",
    "def hitung_kewarganegaraan(perusahaan_list):\n",
    "    hasil = []\n",
    "    for p in perusahaan_list:\n",
    "        kewarganegaraan_count = {}\n",
    "        for karyawan in p[\"karyawan\"]:\n",
    "            kewarganegaraan = karyawan[\"kewarganegaraan\"]\n",
    "            if kewarganegaraan in kewarganegaraan_count:\n",
    "                kewarganegaraan_count[kewarganegaraan] += 1\n",
    "            else:\n",
    "                kewarganegaraan_count[kewarganegaraan] = 1\n",
    "        hasil.append({\n",
    "            \"perusahaan\": p[\"nama\"],\n",
    "            \"kewarganegaraan_karyawan\": kewarganegaraan_count\n",
    "        })\n",
    "    return hasil\n",
    "\n",
    "# Memanggil fungsi dan menampilkan hasil\n",
    "daftar_perusahaan = hitung_kewarganegaraan(perusahaan)\n",
    "print(daftar_perusahaan)\n"
   ]
  }
 ],
 "metadata": {
  "kernelspec": {
   "display_name": "Python 3 (ipykernel)",
   "language": "python",
   "name": "python3"
  },
  "language_info": {
   "codemirror_mode": {
    "name": "ipython",
    "version": 3
   },
   "file_extension": ".py",
   "mimetype": "text/x-python",
   "name": "python",
   "nbconvert_exporter": "python",
   "pygments_lexer": "ipython3",
   "version": "3.12.7"
  }
 },
 "nbformat": 4,
 "nbformat_minor": 5
}
